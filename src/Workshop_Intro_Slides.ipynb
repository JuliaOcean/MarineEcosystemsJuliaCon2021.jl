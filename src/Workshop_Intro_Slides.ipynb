{
 "cells": [
  {
   "cell_type": "markdown",
   "id": "391b6a9f",
   "metadata": {
    "slideshow": {
     "slide_type": "slide"
    }
   },
   "source": [
    "# [JuliaCon 2021](https://juliacon.org/2021/) Workshop\n",
    "\n",
    "**Title:** Modeling Marine Ecosystems At Multiple Scales Using Julia\n",
    "\n",
    "**Speakers:** [Gael Forget](https://github.com/gaelforget), [Benoit Pasquier](https://github.com/briochemc), [Zhen Wu](https://github.com/zhenwu0728)\n",
    "\n",
    "- material : <https://github.com/JuliaOcean/MarineEcosystemsJuliaCon2021.jl>\n",
    "- streaming : <https://www.youtube.com/watch?v=UCIRrXz2ZS0>\n",
    "- Q & A : <https://pigeonhole.at/MARINE>"
   ]
  },
  {
   "cell_type": "markdown",
   "id": "ec9efeb7",
   "metadata": {
    "slideshow": {
     "slide_type": "subslide"
    }
   },
   "source": [
    "Life in the oceans is strongly connected to our climate. In this workshop, you will learn to use packages from the [JuliaOcean](https://github.com/JuliaOcean) and [JuliaClimate](https://github.com/JuliaClimate) organizations that provide a foundation for studying marine ecosystems across a wide range of scales. We will run agent-based models to explore individual microbes and processes that drive species interactions. On the other end of the model hierarchy, we will simulate planetary-scale transports that control ocean biogeography and climate change."
   ]
  },
  {
   "cell_type": "markdown",
   "id": "70a88e26",
   "metadata": {
    "slideshow": {
     "slide_type": "slide"
    }
   },
   "source": [
    "## Schedule\n",
    "\n",
    "- Introduction of the topics covered, presenters, installation, and workshop roadmap (15 minutes).\n",
    "\n",
    "- [AIBECS.jl](https://github.com/JuliaOcean/AIBECS.jl): concept, implementation, tutorial workthough (30 minutes + 10' for questions; [this notebook URL](https://raw.githubusercontent.com/JuliaOcean/MarineEcosystemsJuliaCon2021.jl/main/src/AIBECSExample.jl))\n",
    "\n",
    "- [PlanktonIndividuals.jl](https://github.com/JuliaOcean/PlanktonIndividuals.jl): concept, implementation, tutorial workthough (30 minutes + 10' for questions; [this notebook URL](https://raw.githubusercontent.com/JuliaOcean/MarineEcosystemsJuliaCon2021.jl/main/src/PlanktonIndividualExample.jl))\n",
    "\n",
    "- [ClimateModels.jl](https://github.com/gaelforget/ClimateModels.jl) and [MITgcmTools.jl](https://github.com/gaelforget/MITgcmTools.jl): concept, implementation, tutorial workthough (20 minutes + 10' for questions; [this notebook URL](https://raw.githubusercontent.com/JuliaOcean/MarineEcosystemsJuliaCon2021.jl/main/src/MITgcm_tutorial_global_oce_biogeo.jl))\n",
    "\n",
    "- [ClimateModels.jl](https://github.com/gaelforget/ClimateModels.jl) and [IndividualDisplacements.jl](https://github.com/JuliaClimate/IndividualDisplacements.jl): concept, implementation, tutorial workthough (20 minutes + 10' for questions; [this notebook URL](https://raw.githubusercontent.com/JuliaOcean/MarineEcosystemsJuliaCon2021.jl/main/src/IndividualDisplacementsExample.jl))\n",
    "\n",
    "- Q&A, tutorials, etc wrap-up\n"
   ]
  },
  {
   "cell_type": "markdown",
   "id": "738fbd4d",
   "metadata": {
    "slideshow": {
     "slide_type": "slide"
    }
   },
   "source": [
    "## Context\n",
    "\n",
    "- marine ecosystems and climate: \n",
    "    - from microbes O($10^{-6}m$) to whole Earth O($10^6$m); from seconds to millenia\n",
    "    - life in a moving fluid; interactions between physics, chemistry, and biology\n",
    "    - many fascinating and crucial questions w.r.t. climate change (carbon, food, biodiversity, ...)\n",
    "- hierarchy of models :\n",
    "    - single ODE to massively parallel HPC simulations\n",
    "    - various languages; julia as the future and to unify"
   ]
  },
  {
   "cell_type": "markdown",
   "id": "24e123cf",
   "metadata": {
    "cell_style": "split",
    "slideshow": {
     "slide_type": "-"
    }
   },
   "source": [
    "<img src=\"https://github.com/JuliaOcean/PlanktonIndividuals.jl/raw/master/docs/src/PI_Quota.jpeg\" width=\"90%\">\n",
    "\n"
   ]
  },
  {
   "cell_type": "markdown",
   "id": "af4511ab",
   "metadata": {
    "cell_style": "split",
    "slideshow": {
     "slide_type": "-"
    }
   },
   "source": [
    "<img src=\"https://mitgcm.readthedocs.io/en/latest/_images/co2flux.png\" width=\"90%\">\n",
    "\n"
   ]
  },
  {
   "cell_type": "markdown",
   "id": "5c3f1074",
   "metadata": {
    "slideshow": {
     "slide_type": "subslide"
    }
   },
   "source": [
    "- Github Organizations : \n",
    "    - JuliaOcean\n",
    "    - JuliaClimate\n",
    "    - ...\n",
    "- Funding / Support : \n",
    "    - NASA (PO, MAP, IDS)\n",
    "    - Simons Foundation (CBIOMES, Scope, Gradients)\n",
    "    - ..."
   ]
  },
  {
   "cell_type": "markdown",
   "id": "201843f1",
   "metadata": {
    "slideshow": {
     "slide_type": "slide"
    }
   },
   "source": [
    "## How To \n",
    "\n",
    "To run the notebooks of this workshop on your machine, you need to:\n",
    "\n",
    "1. **Install julia** (v1.6.0 or later, <https://julialang.org/>)\n",
    "\n",
    "1. **Start julia**\n",
    "\n",
    "1. **Add Pluto.jl** (v0.15.0 or later, https://github.com/fonsp/Pluto.jl)\n",
    "\n",
    "    ```julia\n",
    "    import Pkg\n",
    "    Pkg.add(\"Pluto\")\n",
    "    ```\n",
    "\n",
    "1. **Use Pluto to run a notebook**\n",
    "\n",
    "    ```julia\n",
    "    using Pluto\n",
    "    Pluto.run(notebook=\"https://raw.githubusercontent.com/JuliaOcean/MarineEcosystemsJuliaCon2021.jl/main/src/AIBECSExample.jl\")\n",
    "    ```"
   ]
  },
  {
   "cell_type": "markdown",
   "id": "062fae02",
   "metadata": {
    "slideshow": {
     "slide_type": "subslide"
    }
   },
   "source": [
    "**Alternatively**, instead of your own computer, you can just launch a Pluto instance in the cloud using [JuliaHub.com](https://juliahub.com/ui/Home), paste a notebook URL in the [Pluto start page](https://github.com/fonsp/Pluto.jl), and click open."
   ]
  },
  {
   "cell_type": "markdown",
   "id": "7e7e5c4a",
   "metadata": {
    "lines_to_next_cell": 0,
    "slideshow": {
     "slide_type": "slide"
    }
   },
   "source": [
    "## Schedule\n",
    "\n",
    "- Introduction of the topics covered, presenters, installation, and workshop roadmap (15 minutes).\n",
    "\n",
    "- [AIBECS.jl](https://github.com/JuliaOcean/AIBECS.jl): concept, implementation, tutorial workthough (30 minutes + 10' for questions; [this notebook URL](https://raw.githubusercontent.com/JuliaOcean/MarineEcosystemsJuliaCon2021.jl/main/src/AIBECSExample.jl))\n",
    "\n",
    "- [PlanktonIndividuals.jl](https://github.com/JuliaOcean/PlanktonIndividuals.jl): concept, implementation, tutorial workthough (30 minutes + 10' for questions; [this notebook URL](https://raw.githubusercontent.com/JuliaOcean/MarineEcosystemsJuliaCon2021.jl/main/src/PlanktonIndividualExample.jl))\n",
    "\n",
    "- [ClimateModels.jl](https://github.com/gaelforget/ClimateModels.jl) and [MITgcmTools.jl](https://github.com/gaelforget/MITgcmTools.jl): concept, implementation, tutorial workthough (20 minutes + 10' for questions; [this notebook URL](https://raw.githubusercontent.com/JuliaOcean/MarineEcosystemsJuliaCon2021.jl/main/src/MITgcm_tutorial_global_oce_biogeo.jl))\n",
    "\n",
    "- [ClimateModels.jl](https://github.com/gaelforget/ClimateModels.jl) and [IndividualDisplacements.jl](https://github.com/JuliaClimate/IndividualDisplacements.jl): concept, implementation, tutorial workthough (20 minutes + 10' for questions; [this notebook URL](https://raw.githubusercontent.com/JuliaOcean/MarineEcosystemsJuliaCon2021.jl/main/src/IndividualDisplacementsExample.jl))\n",
    "\n",
    "- Q&A, tutorials, etc wrap-up\n"
   ]
  }
 ],
 "metadata": {
  "celltoolbar": "Slideshow",
  "jupytext": {
   "formats": "ipynb,jl:light"
  },
  "kernelspec": {
   "display_name": "Julia 1.6.0",
   "language": "julia",
   "name": "julia-1.6"
  },
  "language_info": {
   "file_extension": ".jl",
   "mimetype": "application/julia",
   "name": "julia",
   "version": "1.6.0"
  },
  "rise": {
   "autolaunch": true
  }
 },
 "nbformat": 4,
 "nbformat_minor": 5
}
